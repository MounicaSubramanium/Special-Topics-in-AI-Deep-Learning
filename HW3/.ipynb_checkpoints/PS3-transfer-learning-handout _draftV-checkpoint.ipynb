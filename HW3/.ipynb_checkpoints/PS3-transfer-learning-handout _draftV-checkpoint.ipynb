{
 "cells": [
  {
   "cell_type": "markdown",
   "metadata": {},
   "source": [
    "# Vivek"
   ]
  },
  {
   "cell_type": "code",
   "execution_count": 1,
   "metadata": {},
   "outputs": [],
   "source": [
    "import numpy as np\n",
    "from numpy.linalg import inv, norm\n",
    "import matplotlib.pyplot as plt\n",
    "\n",
    "np.random.seed(0)"
   ]
  },
  {
   "cell_type": "markdown",
   "metadata": {},
   "source": [
    "The default parameter setting"
   ]
  },
  {
   "cell_type": "code",
   "execution_count": 2,
   "metadata": {},
   "outputs": [],
   "source": [
    "## parameters\n",
    "p = 100\n",
    "n_1 = 200\n",
    "n_2 = 200\n",
    "\n",
    "epochs = 500\n",
    "lr = 0.001"
   ]
  },
  {
   "cell_type": "markdown",
   "metadata": {},
   "source": [
    "## Implement the transfer learning task"
   ]
  },
  {
   "cell_type": "markdown",
   "metadata": {},
   "source": [
    "First, generate the parameters $\\beta_1$, and $\\beta_2=\\beta_1+\\delta\\cdot \\mathcal{N}(0,1)$. Then the features $X_1,X_2$ from the standard normal distribution $\\mathcal{N}(0,1)$"
   ]
  },
  {
   "cell_type": "markdown",
   "metadata": {},
   "source": [
    "Also generate the error terms $\\varepsilon_1,\\varepsilon_2$ from $\\sigma_i\\cdot\\mathcal{N}(0,1)$, and $Y_1,Y_2$ from $Y_i=X_i\\beta_i+\\varepsilon_i$"
   ]
  },
  {
   "cell_type": "code",
   "execution_count": 3,
   "metadata": {},
   "outputs": [],
   "source": [
    "def generate_params(p, n_1, n_2, sigma_1, sigma_2, delta):\n",
    "    \n",
    "    # GENERATE DATA HERE ####\n",
    "    \n",
    "    # task 1\n",
    "    beta_1 = np.random.normal(0, 1, (p, 1))\n",
    "\n",
    "    X_1 = np.random.normal(0, 1, (n_1, p))\n",
    "    epsilon_1 = sigma_1 * np.random.normal(0, 1, (n_1, 1))\n",
    "    Y_1 = X_1 @ beta_1 + epsilon_1\n",
    "\n",
    "    # task 2\n",
    "    beta_2 = beta_1 + delta * np.random.normal(0, 1, (p, 1))\n",
    "    \n",
    "    X_2 = np.random.normal(0, 1, (n_2, p))\n",
    "    epsilon_2 = sigma_2 * np.random.normal(0, 1, (n_2, 1))\n",
    "    Y_2 = X_2 @ beta_2 + epsilon_2\n",
    "    \n",
    "    ######################\n",
    "    \n",
    "    return (X_1, Y_1, X_2, Y_2, beta_2)"
   ]
  },
  {
   "cell_type": "markdown",
   "metadata": {},
   "source": [
    "Implement gradient descent, using $w_0=\\hat{\\beta}_1 = (X_1^{\\top}X_1)^{-1}X_1^{\\top}Y_1$ as initialization. Save the loss for each step, defined by $\\|w_t-\\beta_2\\|^2$."
   ]
  },
  {
   "cell_type": "code",
   "execution_count": 4,
   "metadata": {
    "scrolled": true
   },
   "outputs": [],
   "source": [
    "def gradient_descent(params, epochs, lr):\n",
    "    \n",
    "    # unpack features, labels, parameters\n",
    "    X_1, Y_1, X_2, Y_2, beta_2 = params\n",
    "    list_dist = []\n",
    "    \n",
    "    # YOUR CODE HERE ####\n",
    "    beta1 = np.matmul(np.linalg.inv(np.transpose(X_1).dot(X_1)), np.transpose(X_1).dot(Y_1))\n",
    "\n",
    "    for epoch in range(epochs):\n",
    "        error = X_2.dot(beta1)-Y_2\n",
    "        grad = np.dot(np.transpose(X_2), (X_2.dot(b) - Y_2))/X_1.shape[0]    \n",
    "        beta1 = beta1 - lr*grad\n",
    "        list_dist.append(norm(beta1 - beta_2))\n",
    "\n",
    "    \n",
    "    #####################\n",
    "    \n",
    "    return list_dist"
   ]
  },
  {
   "cell_type": "markdown",
   "metadata": {},
   "source": [
    "## Plot $\\|w_t-\\beta_2\\|^2$ versus $t$."
   ]
  },
  {
   "cell_type": "code",
   "execution_count": 5,
   "metadata": {},
   "outputs": [],
   "source": [
    "def plot_dist(list_dist):\n",
    "    # plot\n",
    "    plt.xlabel('Epochs')\n",
    "    plt.ylabel('Distance to real parameters')\n",
    "    plt.grid(lw=0.4)\n",
    "    plt.yscale('log')\n",
    "    plt.plot(np.arange(len(list_dist)), list_dist)\n",
    "    plt.show()"
   ]
  },
  {
   "cell_type": "markdown",
   "metadata": {},
   "source": [
    "## Try different sets of parameters. Observe the shapes for the loss curve\n",
    "\n",
    "Refer to the problem description for suggested parameter settings"
   ]
  },
  {
   "cell_type": "code",
   "execution_count": 6,
   "metadata": {},
   "outputs": [
    {
     "ename": "NameError",
     "evalue": "name 'b' is not defined",
     "output_type": "error",
     "traceback": [
      "\u001b[1;31m---------------------------------------------------------------------------\u001b[0m",
      "\u001b[1;31mNameError\u001b[0m                                 Traceback (most recent call last)",
      "\u001b[1;32m<ipython-input-6-2b325711633a>\u001b[0m in \u001b[0;36m<module>\u001b[1;34m\u001b[0m\n\u001b[0;32m      1\u001b[0m \u001b[0mparams\u001b[0m \u001b[1;33m=\u001b[0m \u001b[0mgenerate_params\u001b[0m\u001b[1;33m(\u001b[0m\u001b[0mp\u001b[0m\u001b[1;33m=\u001b[0m\u001b[1;36m100\u001b[0m\u001b[1;33m,\u001b[0m \u001b[0mn_1\u001b[0m\u001b[1;33m=\u001b[0m\u001b[1;36m200\u001b[0m\u001b[1;33m,\u001b[0m \u001b[0mn_2\u001b[0m\u001b[1;33m=\u001b[0m\u001b[1;36m200\u001b[0m\u001b[1;33m,\u001b[0m \u001b[0msigma_1\u001b[0m \u001b[1;33m=\u001b[0m \u001b[1;36m0.1\u001b[0m\u001b[1;33m,\u001b[0m \u001b[0msigma_2\u001b[0m \u001b[1;33m=\u001b[0m \u001b[1;36m0.1\u001b[0m\u001b[1;33m,\u001b[0m \u001b[0mdelta\u001b[0m \u001b[1;33m=\u001b[0m \u001b[1;36m1.5\u001b[0m\u001b[1;33m)\u001b[0m\u001b[1;33m\u001b[0m\u001b[1;33m\u001b[0m\u001b[0m\n\u001b[1;32m----> 2\u001b[1;33m \u001b[0mdist\u001b[0m \u001b[1;33m=\u001b[0m \u001b[0mgradient_descent\u001b[0m\u001b[1;33m(\u001b[0m\u001b[0mparams\u001b[0m\u001b[1;33m,\u001b[0m \u001b[0mepochs\u001b[0m\u001b[1;33m,\u001b[0m \u001b[0mlr\u001b[0m\u001b[1;33m)\u001b[0m\u001b[1;33m\u001b[0m\u001b[1;33m\u001b[0m\u001b[0m\n\u001b[0m\u001b[0;32m      3\u001b[0m \u001b[0mplot_dist\u001b[0m\u001b[1;33m(\u001b[0m\u001b[0mdist\u001b[0m\u001b[1;33m)\u001b[0m\u001b[1;33m\u001b[0m\u001b[1;33m\u001b[0m\u001b[0m\n",
      "\u001b[1;32m<ipython-input-4-e81dbd3eb534>\u001b[0m in \u001b[0;36mgradient_descent\u001b[1;34m(params, epochs, lr)\u001b[0m\n\u001b[0;32m     10\u001b[0m     \u001b[1;32mfor\u001b[0m \u001b[0mepoch\u001b[0m \u001b[1;32min\u001b[0m \u001b[0mrange\u001b[0m\u001b[1;33m(\u001b[0m\u001b[0mepochs\u001b[0m\u001b[1;33m)\u001b[0m\u001b[1;33m:\u001b[0m\u001b[1;33m\u001b[0m\u001b[1;33m\u001b[0m\u001b[0m\n\u001b[0;32m     11\u001b[0m         \u001b[0merror\u001b[0m \u001b[1;33m=\u001b[0m \u001b[0mX_2\u001b[0m\u001b[1;33m.\u001b[0m\u001b[0mdot\u001b[0m\u001b[1;33m(\u001b[0m\u001b[0mbeta1\u001b[0m\u001b[1;33m)\u001b[0m\u001b[1;33m-\u001b[0m\u001b[0mY_2\u001b[0m\u001b[1;33m\u001b[0m\u001b[1;33m\u001b[0m\u001b[0m\n\u001b[1;32m---> 12\u001b[1;33m         \u001b[0mgrad\u001b[0m \u001b[1;33m=\u001b[0m \u001b[0mnp\u001b[0m\u001b[1;33m.\u001b[0m\u001b[0mdot\u001b[0m\u001b[1;33m(\u001b[0m\u001b[0mnp\u001b[0m\u001b[1;33m.\u001b[0m\u001b[0mtranspose\u001b[0m\u001b[1;33m(\u001b[0m\u001b[0mX_2\u001b[0m\u001b[1;33m)\u001b[0m\u001b[1;33m,\u001b[0m \u001b[1;33m(\u001b[0m\u001b[0mX_2\u001b[0m\u001b[1;33m.\u001b[0m\u001b[0mdot\u001b[0m\u001b[1;33m(\u001b[0m\u001b[0mb\u001b[0m\u001b[1;33m)\u001b[0m \u001b[1;33m-\u001b[0m \u001b[0mY_2\u001b[0m\u001b[1;33m)\u001b[0m\u001b[1;33m)\u001b[0m\u001b[1;33m/\u001b[0m\u001b[0mX_1\u001b[0m\u001b[1;33m.\u001b[0m\u001b[0mshape\u001b[0m\u001b[1;33m[\u001b[0m\u001b[1;36m0\u001b[0m\u001b[1;33m]\u001b[0m\u001b[1;33m\u001b[0m\u001b[1;33m\u001b[0m\u001b[0m\n\u001b[0m\u001b[0;32m     13\u001b[0m         \u001b[0mbeta1\u001b[0m \u001b[1;33m=\u001b[0m \u001b[0mbeta1\u001b[0m \u001b[1;33m-\u001b[0m \u001b[0mlr\u001b[0m\u001b[1;33m*\u001b[0m\u001b[0mgrad\u001b[0m\u001b[1;33m\u001b[0m\u001b[1;33m\u001b[0m\u001b[0m\n\u001b[0;32m     14\u001b[0m         \u001b[0mlist_dist\u001b[0m\u001b[1;33m.\u001b[0m\u001b[0mappend\u001b[0m\u001b[1;33m(\u001b[0m\u001b[0mnorm\u001b[0m\u001b[1;33m(\u001b[0m\u001b[0mbeta1\u001b[0m \u001b[1;33m-\u001b[0m \u001b[0mbeta_2\u001b[0m\u001b[1;33m)\u001b[0m\u001b[1;33m)\u001b[0m\u001b[1;33m\u001b[0m\u001b[1;33m\u001b[0m\u001b[0m\n",
      "\u001b[1;31mNameError\u001b[0m: name 'b' is not defined"
     ]
    }
   ],
   "source": [
    "params = generate_params(p=100, n_1=200, n_2=200, sigma_1 = 0.1, sigma_2 = 0.1, delta = 1.5)\n",
    "dist = gradient_descent(params, epochs, lr)\n",
    "plot_dist(dist)"
   ]
  },
  {
   "cell_type": "code",
   "execution_count": 91,
   "metadata": {},
   "outputs": [
    {
     "data": {
      "image/png": "[encoded data removed]",
      "text/plain": [
       "<Figure size 432x288 with 1 Axes>"
      ]
     },
     "metadata": {
      "needs_background": "light"
     },
     "output_type": "display_data"
    }
   ],
   "source": [
    "params = generate_params(p=100, n_1=200, n_2=200, sigma_1 = 0.1, sigma_2 = 0.3, delta = 0.1)\n",
    "dist = gradient_descent(params, epochs, lr)\n",
    "plot_dist(dist)"
   ]
  },
  {
   "cell_type": "code",
   "execution_count": 92,
   "metadata": {},
   "outputs": [
    {
     "data": {
      "image/png": "[encoded data removed]",
      "text/plain": [
       "<Figure size 432x288 with 1 Axes>"
      ]
     },
     "metadata": {
      "needs_background": "light"
     },
     "output_type": "display_data"
    }
   ],
   "source": [
    "params = generate_params(p=100, n_1=200, n_2=200, sigma_1 = 0.1, sigma_2 = 0.3, delta = 0.05)\n",
    "dist = gradient_descent(params, epochs, lr)\n",
    "plot_dist(dist)"
   ]
  },
  {
   "cell_type": "code",
   "execution_count": null,
   "metadata": {},
   "outputs": [],
   "source": []
  }
 ],
 "metadata": {
  "kernelspec": {
   "display_name": "Python 3",
   "language": "python",
   "name": "python3"
  },
  "language_info": {
   "codemirror_mode": {
    "name": "ipython",
    "version": 3
   },
   "file_extension": ".py",
   "mimetype": "text/x-python",
   "name": "python",
   "nbconvert_exporter": "python",
   "pygments_lexer": "ipython3",
   "version": "3.7.4"
  }
 },
 "nbformat": 4,
 "nbformat_minor": 2
}
