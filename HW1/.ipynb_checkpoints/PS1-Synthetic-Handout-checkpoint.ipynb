{
 "cells": [
  {
   "cell_type": "markdown",
   "metadata": {},
   "source": [
    "# CS7180 Problem Set 1: Implement a teacher-student network setting for Gaussian inputs (20 points)\n",
    "\n",
    "Welcome to CS7180!\n",
    "\n",
    "Before you start, make sure to read the problem description in the handout pdf."
   ]
  },
  {
   "cell_type": "code",
   "execution_count": null,
   "metadata": {},
   "outputs": [],
   "source": [
    "# Dependencies\n",
    "import argparse\n",
    "import torch\n",
    "import torch.nn.functional as F\n",
    "import torch.optim as optim\n",
    "from torchvision import datasets, transforms\n",
    "\n",
    "\n",
    "# hyper parameters\n",
    "batch_size = 20\n",
    "width = 30\n",
    "d_input = 100"
   ]
  },
  {
   "cell_type": "markdown",
   "metadata": {},
   "source": [
    "# Part 1: Implement a two-layer neural network with ReLU activation (5 points)"
   ]
  },
  {
   "cell_type": "code",
   "execution_count": null,
   "metadata": {},
   "outputs": [],
   "source": [
    "class Net(torch.nn.Module):\n",
    "    \n",
    "    def __init__(self, d_input, width):\n",
    "        \n",
    "        super(Net, self).__init__()\n",
    "        # ------------------\n",
    "        # Write your implementation here.\n",
    "\n",
    "        # ------------------\n",
    "        \n",
    "        \n",
    "    def forward(self, x):\n",
    "        \n",
    "        x = x.view(-1, d_input)\n",
    "        # ------------------\n",
    "        # Write your implementation here.\n",
    "\n",
    "        return x\n",
    "        # ------------------"
   ]
  },
  {
   "cell_type": "markdown",
   "metadata": {},
   "source": [
    "### Generating the data"
   ]
  },
  {
   "cell_type": "code",
   "execution_count": null,
   "metadata": {},
   "outputs": [],
   "source": [
    "# sample size\n",
    "N = 500\n",
    "\n",
    "# random data from standard normal distribution\n",
    "x_train = torch.randn(N, d_input)\n",
    "x_test = torch.randn(N, d_input)\n",
    "\n",
    "# teacher network with random weights\n",
    "teacher = Net(d_input, width)\n",
    "\n",
    "# generate labels using the teacher network\n",
    "y_train = torch.FloatTensor([teacher.forward(x) for x in x_train])\n",
    "y_test = torch.FloatTensor([teacher.forward(x) for x in x_test])\n",
    "\n",
    "# combine the data and labels into pytorch friendly format\n",
    "train_data = torch.utils.data.TensorDataset(x_train, y_train)\n",
    "test_data = torch.utils.data.TensorDataset(x_test, y_test)\n",
    "\n",
    "# prepare data loaders\n",
    "train_loader = torch.utils.data.DataLoader(train_data, batch_size=batch_size)\n",
    "test_loader = torch.utils.data.DataLoader(test_data, batch_size=batch_size)"
   ]
  },
  {
   "cell_type": "markdown",
   "metadata": {},
   "source": [
    "# Part 2: Set up the quadratic loss function and an SGD optimizer (10 points)"
   ]
  },
  {
   "cell_type": "code",
   "execution_count": null,
   "metadata": {},
   "outputs": [],
   "source": [
    "n_epochs = 30 # the number of epochs can be tuned for better performance\n",
    "\n",
    "criterion = None\n",
    "optimizer = None\n",
    "model.train() # prep model for training\n",
    "\n",
    "for epoch in range(n_epochs):\n",
    "    train_loss = 0.0\n",
    "\n",
    "    # train the model \n",
    "    for idx, (data, labels) in enumerate(train_loader):\n",
    "        # ------------------\n",
    "        # Write your implementation here.\n",
    "\n",
    "        # ------------------\n",
    "\n",
    "    # print training statistics\n",
    "    print('Epoch: {} \\tTraining Loss: {:.6f}'.format(epoch+1, train_loss * batch_size / N))"
   ]
  },
  {
   "cell_type": "code",
   "execution_count": null,
   "metadata": {},
   "outputs": [],
   "source": [
    "# Test the performance of the trained model\n",
    "\n",
    "model.eval()\n",
    "test_loss = 0.0\n",
    "\n",
    "for idx, (data, labels) in enumerate(test_loader):\n",
    "    # forward pass\n",
    "    output = model(data)\n",
    "    test_loss += criterion(output, labels).item()\n",
    "\n",
    "print('Average mean squared error {:.6f}'.format(test_loss * batch_size / N))"
   ]
  },
  {
   "cell_type": "markdown",
   "metadata": {},
   "source": [
    "# Part 3: Vary the width parameter, and plot the test error for different widths (5 points)\n",
    "\n",
    "1. How does the test error vary as we change the width?\n",
    "2. [Bonus] What happens if we vary the sample size?\n",
    "3. [Bonus] How about adding a small amount of noise to the labels of the training dataset?\n",
    "\n",
    "Report what you found and include the results in your submission."
   ]
  },
  {
   "cell_type": "code",
   "execution_count": null,
   "metadata": {},
   "outputs": [],
   "source": []
  }
 ],
 "metadata": {
  "kernelspec": {
   "display_name": "Python 3",
   "language": "python",
   "name": "python3"
  },
  "language_info": {
   "codemirror_mode": {
    "name": "ipython",
    "version": 3
   },
   "file_extension": ".py",
   "mimetype": "text/x-python",
   "name": "python",
   "nbconvert_exporter": "python",
   "pygments_lexer": "ipython3",
   "version": "3.7.4"
  }
 },
 "nbformat": 4,
 "nbformat_minor": 4
}
